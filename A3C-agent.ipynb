{
  "nbformat": 4,
  "nbformat_minor": 0,
  "metadata": {
    "colab": {
      "provenance": []
    },
    "kernelspec": {
      "name": "python3",
      "display_name": "Python 3"
    },
    "language_info": {
      "name": "python"
    }
  },
  "cells": [
    {
      "cell_type": "markdown",
      "source": [
        "# **Installing the required gynasium library for the atari casino game dataset**"
      ],
      "metadata": {
        "id": "baYGWn31mI4F"
      }
    },
    {
      "cell_type": "code",
      "source": [
        "!apt-get install -y swig\n",
        "!pip install gymnasium\n",
        "!pip install \"gymnasium[atari, accept-rom-license]\"\n",
        "!pip install autorom\n",
        "!pip install ale-py\n",
        "!pip install shimmy"
      ],
      "metadata": {
        "colab": {
          "base_uri": "https://localhost:8080/"
        },
        "id": "v0oR2QXyn_G6",
        "outputId": "afd184df-44b7-4204-fd19-d2237278458c"
      },
      "execution_count": null,
      "outputs": [
        {
          "output_type": "stream",
          "name": "stdout",
          "text": [
            "Reading package lists... Done\n",
            "Building dependency tree... Done\n",
            "Reading state information... Done\n",
            "swig is already the newest version (4.0.2-1ubuntu1).\n",
            "0 upgraded, 0 newly installed, 0 to remove and 38 not upgraded.\n",
            "Requirement already satisfied: gymnasium in /usr/local/lib/python3.12/dist-packages (1.2.1)\n",
            "Requirement already satisfied: numpy>=1.21.0 in /usr/local/lib/python3.12/dist-packages (from gymnasium) (2.0.2)\n",
            "Requirement already satisfied: cloudpickle>=1.2.0 in /usr/local/lib/python3.12/dist-packages (from gymnasium) (3.1.1)\n",
            "Requirement already satisfied: typing-extensions>=4.3.0 in /usr/local/lib/python3.12/dist-packages (from gymnasium) (4.15.0)\n",
            "Requirement already satisfied: farama-notifications>=0.0.1 in /usr/local/lib/python3.12/dist-packages (from gymnasium) (0.0.4)\n",
            "Requirement already satisfied: gymnasium[accept-rom-license,atari] in /usr/local/lib/python3.12/dist-packages (1.2.1)\n",
            "\u001b[33mWARNING: gymnasium 1.2.1 does not provide the extra 'accept-rom-license'\u001b[0m\u001b[33m\n",
            "\u001b[0mRequirement already satisfied: numpy>=1.21.0 in /usr/local/lib/python3.12/dist-packages (from gymnasium[accept-rom-license,atari]) (2.0.2)\n",
            "Requirement already satisfied: cloudpickle>=1.2.0 in /usr/local/lib/python3.12/dist-packages (from gymnasium[accept-rom-license,atari]) (3.1.1)\n",
            "Requirement already satisfied: typing-extensions>=4.3.0 in /usr/local/lib/python3.12/dist-packages (from gymnasium[accept-rom-license,atari]) (4.15.0)\n",
            "Requirement already satisfied: farama-notifications>=0.0.1 in /usr/local/lib/python3.12/dist-packages (from gymnasium[accept-rom-license,atari]) (0.0.4)\n",
            "Requirement already satisfied: ale_py>=0.9 in /usr/local/lib/python3.12/dist-packages (from gymnasium[accept-rom-license,atari]) (0.11.2)\n",
            "Requirement already satisfied: autorom in /usr/local/lib/python3.12/dist-packages (0.6.1)\n",
            "Requirement already satisfied: click in /usr/local/lib/python3.12/dist-packages (from autorom) (8.3.0)\n",
            "Requirement already satisfied: requests in /usr/local/lib/python3.12/dist-packages (from autorom) (2.32.4)\n",
            "Requirement already satisfied: charset_normalizer<4,>=2 in /usr/local/lib/python3.12/dist-packages (from requests->autorom) (3.4.3)\n",
            "Requirement already satisfied: idna<4,>=2.5 in /usr/local/lib/python3.12/dist-packages (from requests->autorom) (3.10)\n",
            "Requirement already satisfied: urllib3<3,>=1.21.1 in /usr/local/lib/python3.12/dist-packages (from requests->autorom) (2.5.0)\n",
            "Requirement already satisfied: certifi>=2017.4.17 in /usr/local/lib/python3.12/dist-packages (from requests->autorom) (2025.8.3)\n",
            "Requirement already satisfied: ale-py in /usr/local/lib/python3.12/dist-packages (0.11.2)\n",
            "Requirement already satisfied: numpy>1.20 in /usr/local/lib/python3.12/dist-packages (from ale-py) (2.0.2)\n",
            "Collecting shimmy\n",
            "  Downloading Shimmy-2.0.0-py3-none-any.whl.metadata (3.5 kB)\n",
            "Requirement already satisfied: numpy>=1.18.0 in /usr/local/lib/python3.12/dist-packages (from shimmy) (2.0.2)\n",
            "Requirement already satisfied: gymnasium>=1.0.0a1 in /usr/local/lib/python3.12/dist-packages (from shimmy) (1.2.1)\n",
            "Requirement already satisfied: cloudpickle>=1.2.0 in /usr/local/lib/python3.12/dist-packages (from gymnasium>=1.0.0a1->shimmy) (3.1.1)\n",
            "Requirement already satisfied: typing-extensions>=4.3.0 in /usr/local/lib/python3.12/dist-packages (from gymnasium>=1.0.0a1->shimmy) (4.15.0)\n",
            "Requirement already satisfied: farama-notifications>=0.0.1 in /usr/local/lib/python3.12/dist-packages (from gymnasium>=1.0.0a1->shimmy) (0.0.4)\n",
            "Downloading Shimmy-2.0.0-py3-none-any.whl (30 kB)\n",
            "Installing collected packages: shimmy\n",
            "Successfully installed shimmy-2.0.0\n"
          ]
        }
      ]
    },
    {
      "cell_type": "markdown",
      "source": [],
      "metadata": {
        "id": "mb4RMZ2qmD4r"
      }
    },
    {
      "cell_type": "markdown",
      "source": [
        "# Defining the neural network architecture for the Q learning"
      ],
      "metadata": {
        "id": "_IhK3mBDmeym"
      }
    },
    {
      "cell_type": "code",
      "source": [
        "# importing required libraries\n",
        "import cv2\n",
        "import math\n",
        "import random\n",
        "import numpy as np\n",
        "import torch\n",
        "import torch.nn as nn\n",
        "import torch.optim as optim\n",
        "import torch.nn.functional as F\n",
        "import torch.multiprocessing as mp\n",
        "import torch.distributions as distributions\n",
        "from torch.distributions import Categorical\n",
        "import gymnasium as gym\n",
        "from gymnasium import ObservationWrapper\n",
        "from gymnasium.spaces import Box\n",
        "import ale_py"
      ],
      "metadata": {
        "id": "aWtnlPvJpLF4"
      },
      "execution_count": null,
      "outputs": []
    },
    {
      "cell_type": "code",
      "source": [
        "class Network(nn.Module):\n",
        "\n",
        "  def __init__(self, action_size):\n",
        "    super(Network, self).__init__()\n",
        "    self.conv1 = torch.nn.Conv2d(in_channels=4, out_channels=32, kernel_size=(3, 3), stride=2)\n",
        "    self.conv2 = torch.nn.Conv2d(in_channels = 32, out_channels = 32, kernel_size = (3,3), stride = 2)\n",
        "    self.conv3 = torch.nn.Conv2d(in_channels = 32, out_channels = 32, kernel_size = (3,3), stride = 2)\n",
        "    self.flatten = torch.nn.Flatten()\n",
        "    self.fc1  = torch.nn.Linear(2592, 128)\n",
        "    self.fc2a = torch.nn.Linear(128, action_size)\n",
        "    self.fc2s = torch.nn.Linear(128, 1)\n",
        "\n",
        "  def forward(self, state):\n",
        "    x = self.conv1(state)\n",
        "    x = F.relu(x)\n",
        "    x = self.conv2(x)\n",
        "    x = F.relu(x)\n",
        "    x = self.conv3(x)\n",
        "    x = F.relu(x)\n",
        "    x = self.flatten(x)\n",
        "    x = self.fc1(x)\n",
        "    x = F.relu(x)\n",
        "    action_values = self.fc2a(x) # outputting the action values\n",
        "    state_value = self.fc2s(x).squeeze(-1) # final neural network output outputting the required state\n",
        "    return action_values, state_value # returning both action values and the state value in this forward propogation"
      ],
      "metadata": {
        "id": "Ii_h7nCrrqRr"
      },
      "execution_count": null,
      "outputs": []
    },
    {
      "cell_type": "markdown",
      "source": [
        "## Setting up the preprocessing pipeline for the agent"
      ],
      "metadata": {
        "id": "G5z0qpGgpTqY"
      }
    },
    {
      "cell_type": "code",
      "source": [
        "class PreprocessAtari(ObservationWrapper):\n",
        "\n",
        "  def __init__(self, env, height = 42, width = 42, crop = lambda img: img, dim_order = 'pytorch', color = False, n_frames = 4):\n",
        "    super(PreprocessAtari, self).__init__(env)\n",
        "    self.img_size = (height, width)\n",
        "    self.crop = crop\n",
        "    self.dim_order = dim_order\n",
        "    self.color = color\n",
        "    self.frame_stack = n_frames\n",
        "    n_channels = 3 * n_frames if color else n_frames\n",
        "    obs_shape = {'tensorflow': (height, width, n_channels), 'pytorch': (n_channels, height, width)}[dim_order]\n",
        "    self.observation_space = Box(0.0, 1.0, obs_shape)\n",
        "    self.frames = np.zeros(obs_shape, dtype = np.float32)\n",
        "\n",
        "  def reset(self):\n",
        "    self.frames = np.zeros_like(self.frames)\n",
        "    obs, info = self.env.reset()\n",
        "    self.update_buffer(obs)\n",
        "    return self.frames, info\n",
        "\n",
        "  def observation(self, img):\n",
        "    img = self.crop(img)\n",
        "    img = cv2.resize(img, self.img_size)\n",
        "    if not self.color:\n",
        "      if len(img.shape) == 3 and img.shape[2] == 3:\n",
        "        img = cv2.cvtColor(img, cv2.COLOR_BGR2GRAY)\n",
        "    img = img.astype('float32') / 255.\n",
        "    if self.color:\n",
        "      self.frames = np.roll(self.frames, shift = -3, axis = 0)\n",
        "    else:\n",
        "      self.frames = np.roll(self.frames, shift = -1, axis = 0)\n",
        "    if self.color:\n",
        "      self.frames[-3:] = img\n",
        "    else:\n",
        "      self.frames[-1] = img\n",
        "    return self.frames\n",
        "\n",
        "  def update_buffer(self, obs):\n",
        "    self.frames = self.observation(obs)\n",
        "\n",
        "def make_env():\n",
        "  gym.register_envs(ale_py)\n",
        "  env = gym.make(\"ALE/Casino-v5\", render_mode = 'rgb_array')\n",
        "  env = PreprocessAtari(env, height = 84, width = 84, crop = lambda img: img, dim_order = 'pytorch', color = False, n_frames = 4)\n",
        "  return env\n",
        "\n",
        "env = make_env()\n",
        "\n",
        "state_shape = env.observation_space.shape\n",
        "number_actions = env.action_space.n\n",
        "print(\"State shape:\", state_shape)\n",
        "print(\"Number actions:\", number_actions)\n",
        "print(\"Action names:\", env.env.env.env.get_action_meanings())"
      ],
      "metadata": {
        "colab": {
          "base_uri": "https://localhost:8080/"
        },
        "id": "6cdt7jEtplIo",
        "outputId": "655758b9-b7f6-49bb-ca95-76fd44de4004"
      },
      "execution_count": null,
      "outputs": [
        {
          "output_type": "stream",
          "name": "stdout",
          "text": [
            "State shape: (4, 84, 84)\n",
            "Number actions: 4\n",
            "Action names: ['NOOP', 'FIRE', 'UP', 'DOWN']\n"
          ]
        }
      ]
    },
    {
      "cell_type": "markdown",
      "source": [
        "# Initializing the Hyper parameters"
      ],
      "metadata": {
        "id": "XYPihDC_ueEb"
      }
    },
    {
      "cell_type": "code",
      "source": [
        "learning_rate = 2.5e-4\n",
        "discount_factor = 0.99\n",
        "number_environments = 10"
      ],
      "metadata": {
        "id": "23rDTGzGudLK"
      },
      "execution_count": null,
      "outputs": []
    },
    {
      "cell_type": "markdown",
      "source": [
        "# Setting up the agent"
      ],
      "metadata": {
        "id": "0ZaFAPVJu_-R"
      }
    },
    {
      "cell_type": "code",
      "source": [
        "class Agent():\n",
        "\n",
        "  def __init__(self, action_size):\n",
        "    self.device = torch.device(\"cuda:0\" if torch.cuda.is_available() else \"cpu\")\n",
        "    self.action_size = action_size\n",
        "    self.network = Network(action_size).to(self.device)\n",
        "    self.optimizer = torch.optim.Adam(self.network.parameters(), lr = learning_rate)\n",
        "\n",
        "  def act(self, state):\n",
        "    if state.ndim == 3:\n",
        "      state = [state]\n",
        "    state = torch.tensor(state, dtype = torch.float32, device = self.device)\n",
        "    action_values, _ = self.network(state)\n",
        "    policy = F.softmax(action_values, dim = -1)\n",
        "    return np.array([np.random.choice(len(p), p = p) for p in policy.detach().cpu().numpy()])\n",
        "\n",
        "  def step(self, state, action, reward, next_state, done):\n",
        "    batch_size = state.shape[0]\n",
        "\n",
        "    state = torch.tensor(state, dtype=torch.float32, device=self.device)\n",
        "    next_state = torch.tensor(next_state, dtype=torch.float32, device=self.device)\n",
        "    reward = torch.tensor(reward, dtype=torch.float32, device=self.device)\n",
        "    done = torch.tensor(done, dtype=torch.float32, device=self.device)\n",
        "\n",
        "    action_values, state_value = self.network(state)\n",
        "    _, next_state_value = self.network(next_state)\n",
        "\n",
        "    target_state_value = reward + discount_factor * next_state_value * (1 - done)\n",
        "    advantage = target_state_value - state_value\n",
        "    advantage = (advantage - advantage.mean()) / (advantage.std() + 1e-8)\n",
        "\n",
        "    probs = F.softmax(action_values, dim=-1)\n",
        "    logprobs = F.log_softmax(action_values, dim=-1)\n",
        "    entropy = -(probs * logprobs).sum(dim=-1)\n",
        "\n",
        "    batch_idx = np.arange(batch_size)\n",
        "    logp_actions = logprobs[batch_idx, action]\n",
        "\n",
        "    actor_loss = -(logp_actions * advantage.detach()).mean() - 0.01 * entropy.mean()\n",
        "    critic_loss = F.mse_loss(target_state_value.detach(), state_value)\n",
        "    total_loss = actor_loss + critic_loss\n",
        "\n",
        "    self.optimizer.zero_grad()\n",
        "    total_loss.backward()\n",
        "    torch.nn.utils.clip_grad_norm_(self.network.parameters(), 0.5)\n",
        "    self.optimizer.step()\n"
      ],
      "metadata": {
        "id": "FrkvFS9durkA"
      },
      "execution_count": null,
      "outputs": []
    },
    {
      "cell_type": "code",
      "source": [
        "agent = Agent(number_actions)"
      ],
      "metadata": {
        "id": "z-qj-fjmvGIC"
      },
      "execution_count": null,
      "outputs": []
    },
    {
      "cell_type": "markdown",
      "source": [
        "# Evaluating the agent performace for a single environment"
      ],
      "metadata": {
        "id": "C1S-R5-w9xg4"
      }
    },
    {
      "cell_type": "code",
      "source": [
        "def evaluate(agent, env, n_episodes = 1):\n",
        "  episodes_rewards = []\n",
        "  for _ in range(n_episodes):\n",
        "    state, _ = env.reset()\n",
        "    total_reward = 0\n",
        "    while True:\n",
        "      action = agent.act(state)\n",
        "      state, reward, done, info, _ = env.step(action[0])\n",
        "      total_reward += reward\n",
        "      if done:\n",
        "        break\n",
        "    episodes_rewards.append(total_reward)\n",
        "  return episodes_rewards"
      ],
      "metadata": {
        "id": "4HGSG8M6vN_s"
      },
      "execution_count": null,
      "outputs": []
    },
    {
      "cell_type": "markdown",
      "source": [
        "# Using multiple environments to evaluate the agent performace"
      ],
      "metadata": {
        "id": "y0rYHXtX97Ow"
      }
    },
    {
      "cell_type": "code",
      "source": [
        "class EnvBatch:\n",
        "\n",
        "  def __init__(self, n_envs = 10):\n",
        "    self.envs = [make_env() for _ in range(n_envs)]\n",
        "\n",
        "  def reset(self):\n",
        "    _states = []\n",
        "    for env in self.envs:\n",
        "      _states.append(env.reset()[0])\n",
        "    return np.array(_states)\n",
        "\n",
        "  def step(self, actions):\n",
        "    next_states, rewards, dones, infos, _ = map(np.array, zip(*[env.step(a) for env, a in zip(self.envs, actions)]))\n",
        "    for i in range(len(self.envs)):\n",
        "      if dones[i]:\n",
        "        next_states[i] = self.envs[i].reset()[0]\n",
        "    return next_states, rewards, dones, infos"
      ],
      "metadata": {
        "id": "BlvVUhFbvUWe"
      },
      "execution_count": null,
      "outputs": []
    },
    {
      "cell_type": "markdown",
      "source": [
        "# Conclusion\n",
        "### Based on the game the model will take much more episodes to evaluate the best policy as the game is highly random, unpredictable and noisy. In conclusion even with the best policy evaluated it is highly unlikely for the best value of reward the agent achieves due to the highly stochastic and random nature of the game.\n",
        "\n"
      ],
      "metadata": {
        "id": "J_jqXKsW-HIz"
      }
    },
    {
      "cell_type": "code",
      "source": [
        "import tqdm\n",
        "\n",
        "env_batch = EnvBatch(number_environments)\n",
        "batch_states = env_batch.reset()\n",
        "\n",
        "with tqdm.trange(0, 3001) as progress_bar:\n",
        "  for i in progress_bar:\n",
        "    batch_actions = agent.act(batch_states)\n",
        "    batch_next_states, batch_rewards, batch_dones, _ = env_batch.step(batch_actions)\n",
        "    batch_rewards *= 0.01\n",
        "    agent.step(batch_states, batch_actions, batch_rewards, batch_next_states, batch_dones)\n",
        "    batch_states = batch_next_states\n",
        "    if i % 1000 == 0:\n",
        "      print(\"Average agent reward: \", np.mean(evaluate(agent, env, n_episodes = 30)))"
      ],
      "metadata": {
        "colab": {
          "base_uri": "https://localhost:8080/"
        },
        "id": "zUNFKgV1vX4h",
        "outputId": "7964c24b-fee4-471f-e6de-2bf9e5d8843f"
      },
      "execution_count": null,
      "outputs": [
        {
          "metadata": {
            "tags": null
          },
          "name": "stderr",
          "output_type": "stream",
          "text": [
            "  0%|          | 3/3001 [10:17<133:18:30, 160.08s/it]"
          ]
        },
        {
          "metadata": {
            "tags": null
          },
          "name": "stdout",
          "output_type": "stream",
          "text": [
            "Average agent reward:  -990.0\n"
          ]
        },
        {
          "output_type": "stream",
          "name": "stderr",
          "text": [
            " 33%|███▎      | 1003/3001 [25:18<49:22:26, 88.96s/it] "
          ]
        },
        {
          "output_type": "stream",
          "name": "stdout",
          "text": [
            "Average agent reward:  -990.0\n"
          ]
        },
        {
          "output_type": "stream",
          "name": "stderr",
          "text": [
            " 67%|██████▋   | 2003/3001 [36:35<16:50:57, 60.78s/it]"
          ]
        },
        {
          "output_type": "stream",
          "name": "stdout",
          "text": [
            "Average agent reward:  -989.3333333333334\n"
          ]
        },
        {
          "output_type": "stream",
          "name": "stderr",
          "text": [
            "100%|██████████| 3001/3001 [46:27<00:00,  1.08it/s]"
          ]
        },
        {
          "output_type": "stream",
          "name": "stdout",
          "text": [
            "Average agent reward:  -990.0\n"
          ]
        },
        {
          "output_type": "stream",
          "name": "stderr",
          "text": [
            "\n"
          ]
        }
      ]
    },
    {
      "cell_type": "code",
      "source": [
        "import glob\n",
        "import io\n",
        "import base64\n",
        "import imageio\n",
        "from IPython.display import HTML, display\n",
        "from gym.wrappers.monitoring.video_recorder import VideoRecorder\n",
        "\n",
        "def show_video_of_model(agent, env):\n",
        "  state, _ = env.reset()\n",
        "  done = False\n",
        "  frames = []\n",
        "  while not done:\n",
        "    frame = env.render()\n",
        "    frames.append(frame)\n",
        "    action = agent.act(state)\n",
        "    state, reward, done, _, _ = env.step(action[0])\n",
        "  env.close()\n",
        "  imageio.mimsave('video.mp4', frames, fps=30)\n",
        "\n",
        "show_video_of_model(agent, env)\n",
        "\n",
        "def show_video():\n",
        "    mp4list = glob.glob('*.mp4')\n",
        "    if len(mp4list) > 0:\n",
        "        mp4 = mp4list[0]\n",
        "        video = io.open(mp4, 'r+b').read()\n",
        "        encoded = base64.b64encode(video)\n",
        "        display(HTML(data='''<video alt=\"test\" autoplay\n",
        "                loop controls style=\"height: 400px;\">\n",
        "                <source src=\"data:video/mp4;base64,{0}\" type=\"video/mp4\" />\n",
        "             </video>'''.format(encoded.decode('ascii'))))\n",
        "    else:\n",
        "        print(\"Could not find video\")\n",
        "\n",
        "show_video()"
      ],
      "metadata": {
        "colab": {
          "base_uri": "https://localhost:8080/",
          "height": 459
        },
        "id": "Yi8fpKiJxIay",
        "outputId": "5a128067-fb51-463d-ea5a-c10331ebc9e0"
      },
      "execution_count": null,
      "outputs": [
        {
          "output_type": "stream",
          "name": "stderr",
          "text": [
            "WARNING:imageio_ffmpeg:IMAGEIO FFMPEG_WRITER WARNING: input image is not divisible by macro_block_size=16, resizing from (160, 210) to (160, 224) to ensure video compatibility with most codecs and players. To prevent resizing, make your input image divisible by the macro_block_size or set the macro_block_size to 1 (risking incompatibility).\n"
          ]
        },
        {
          "output_type": "display_data",
          "data": {
            "text/plain": [
              "<IPython.core.display.HTML object>"
            ],
            "text/html": [
              "<video alt=\"test\" autoplay\n",
              "                loop controls style=\"height: 400px;\">\n",
              "                <source src=\"data:video/mp4;base64,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\" type=\"video/mp4\" />\n",
              "             </video>"
            ]
          },
          "metadata": {}
        }
      ]
    }
  ]
}